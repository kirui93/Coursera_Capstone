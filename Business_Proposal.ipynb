{
 "cells": [
  {
   "cell_type": "markdown",
   "metadata": {},
   "source": [
    "# THE BATTLE OF THE NEIGHBOURHOODS"
   ]
  },
  {
   "cell_type": "markdown",
   "metadata": {},
   "source": [
    "## BUSINESS PROPOSAL"
   ]
  },
  {
   "cell_type": "markdown",
   "metadata": {},
   "source": [
    "### Introduction"
   ]
  },
  {
   "cell_type": "markdown",
   "metadata": {},
   "source": [
    "The purpose of this project is to help people in exploring better facilities around their neighborhood. It will help people making smart and efficient decision on selecting great neighborhood out of numbers of other neighborhoods in Scarborough, Toranto.\n",
    "\n",
    "Scarborough is an administrative division of Toronto, Ontario, Canada. Situated atop the Scarborough Bluffs, it occupies the eastern part of the city. Scarborough is contained within the borders of Victoria Park Avenue on the west, Steeles Avenue to the north, Rouge River and the city of Pickering to the east, and Lake Ontario to the south. It borders Old Toronto, East York and North York in the west and the city of Markham in the north. Scarborough was named after the English town of Scarborough, North Yorkshire.\n",
    "\n",
    "Lots of people are migrating to various states of Canada and needed lots of research for good housing prices and reputated schools for their children. This project is for these people who are looking for better neighborhoods. For ease of access to Kaffe shops, good schools, supermarkets, medical shops, grocery shops, malls, theatre, hospitals, people with same characters, e.t.c.\n",
    "\n",
    "This project aims to create an analysis of features for a people migrating to Scarborough to search a best neighborhood as a comparative analysis between neighborhoods. The features include median housing price and better school according to ratings, crime rates of that particular area, road connectivity, weather conditions, good management for emergency, water resources both freash and waste water and excrement conveyed in sewers and recreational facilities.\n",
    "\n",
    "It will help people to get awareness of the area and neighborhood before moving to a new city, state, country or place for their work or to start a new fresh life.\n",
    "\n",
    "[https://en.wikipedia.org/wiki/Scarborough,_Toronto](https://en.wikipedia.org/wiki/Scarborough,_Toronto)"
   ]
  },
  {
   "cell_type": "markdown",
   "metadata": {},
   "source": [
    "### Location and Population"
   ]
  },
  {
   "cell_type": "markdown",
   "metadata": {},
   "source": [
    "Scarborough is a popular destination for new immigrants in Canada to reside. As a result, it is one of the most diverse and multicultural areas in the Greater Toronto Area, being home to various religious groups and places of worship. Although immigration has become a hot topic over the past few years with more governments seeking more restrictions on immigrants and refugees, the general trend of immigration into Canada has been one of on the rise.\n",
    "\n",
    "The vast majority of Scarborough's population is composed of immigrants who have arrived in the last four decades, and their descendants. In 2006, 57% of residents were foreign-born. Visible minorities make up 67.4% of the population. The population is 22.0% South Asian, 19.5% Chinese, 10.3% Black, and 6.5% Filipino. The remaining visible minority groups each represented less than 2% of the population. The immigrant population has created vibrant multicultural locales in various areas of Scarborough.\n",
    "\n",
    "[https://en.wikipedia.org/wiki/Scarborough,_Toronto](https://en.wikipedia.org/wiki/Scarborough,_Toronto)"
   ]
  },
  {
   "cell_type": "markdown",
   "metadata": {},
   "source": [
    "### The problem"
   ]
  },
  {
   "cell_type": "markdown",
   "metadata": {},
   "source": [
    "The major purpose of this project is to suggest a better neighborhood in a new city for an individual who would like to live there. We look onto factors  such as social presence in society in terms of like minded people, connectivity to the airport, bus stands, city centers, markets and other daily needs things nearby.\n",
    "\n",
    "* Sorted list of house in terms of housing prices in a ascending or descending order\n",
    "* Sorted list of schools in terms of location, fees, rating and reviews"
   ]
  },
  {
   "cell_type": "markdown",
   "metadata": {},
   "source": [
    "### Forsquare API"
   ]
  },
  {
   "cell_type": "markdown",
   "metadata": {},
   "source": [
    "This project will, in great detail, employ the Four-square API as its prime data gathering source. This is because it has a database of millions of places, especially the places API which provides the ability to perform location search, location sharing and details about a business.\n",
    "\n",
    "Using user credentials from the Foursquare API, features of nearby places of the neighborhoods would be mined. Due to HTTP request limitations, the number of places per neighborhood parameter would reasonably be set to 100 and the radius parameter would be set to 500."
   ]
  },
  {
   "cell_type": "markdown",
   "metadata": {},
   "source": [
    "### Clustering Approach"
   ]
  },
  {
   "cell_type": "markdown",
   "metadata": {},
   "source": [
    "Clustering is one of the most common exploratory data analysis technique used to get an intuition about the structure of the data. It can be defined as the task of identifying subgroups in the data such that data points in the same subgroup (cluster) are very similar while data points in different clusters are very different. In other words, we try to find homogeneous subgroups within the data such that data points in each cluster are as similar as possible according to a similarity measure such as euclidean-based distance or correlation-based distance. \n",
    "\n",
    "To compare the similarities of two cities, we decided to explore neighborhoods, segment them, and group them into clusters to find similar neighborhoods in a big city like Nairobi and Mombasa. To be able to do that, we need to cluster data which is a form of unsupervised machine learning: **k-means clustering algorithm**.\n",
    "\n",
    "Kmeans algorithm is an iterative algorithm that tries to partition the dataset into $K$ pre-defined distinct non-overlapping subgroups (clusters) where each data point belongs to only one group. It tries to make the intra-cluster data points as similar as possible while also keeping the clusters as different (far) as possible. It assigns data points to a cluster such that the sum of the squared distance between the data points and the cluster’s centroid (arithmetic mean of all the data points that belong to that cluster) is at the minimum. The less variation we have within clusters, the more homogeneous (similar) the data points are within the same cluster."
   ]
  },
  {
   "cell_type": "markdown",
   "metadata": {},
   "source": [
    "### Python Libraries Used"
   ]
  },
  {
   "cell_type": "markdown",
   "metadata": {},
   "source": [
    "The following are the main Python Libraries used in this project:\n",
    "\n",
    "1. **Pandas**: For creating and manipulating dataframes.\n",
    "\n",
    "2. **Folium**: Python visualization library would be used to visualize the neighborhoods cluster distribution of using interactive leaflet map.\n",
    "\n",
    "3. **Scikit Learn**: For importing k-means clustering.\n",
    "\n",
    "4. **JSON**: Library to handle JSON files.\n",
    "\n",
    "5. **XML**: To separate data from presentation and XML stores data in plain text format.\n",
    "\n",
    "6. **Geocoder**: To retrieve Location Data.\n",
    "\n",
    "7. **Beautiful Soup and Requests**: To scrap and handle HHTP requests.\n",
    "\n",
    "8. **Matplotlib**: Python Plotting Module.\n",
    "\n",
    "9. **Seaborn**: Supplement to Matplotlib."
   ]
  },
  {
   "cell_type": "code",
   "execution_count": null,
   "metadata": {},
   "outputs": [],
   "source": []
  }
 ],
 "metadata": {
  "kernelspec": {
   "display_name": "Python 3",
   "language": "python",
   "name": "python3"
  },
  "language_info": {
   "codemirror_mode": {
    "name": "ipython",
    "version": 3
   },
   "file_extension": ".py",
   "mimetype": "text/x-python",
   "name": "python",
   "nbconvert_exporter": "python",
   "pygments_lexer": "ipython3",
   "version": "3.8.5"
  }
 },
 "nbformat": 4,
 "nbformat_minor": 4
}
