{
 "cells": [
  {
   "cell_type": "markdown",
   "metadata": {},
   "source": [
    "# Final Report for Capstone Project---The Battle of Neighborhoods in Finding a Better Place in Scarborough, Toronto"
   ]
  },
  {
   "cell_type": "markdown",
   "metadata": {},
   "source": [
    "## Name : Kipngeno Kirui"
   ]
  },
  {
   "cell_type": "markdown",
   "metadata": {},
   "source": [
    "## Table of contents\n",
    "* [Introduction](#introduction)\n",
    "* [Data](#data)\n",
    "* [Analysis](#analysis)\n",
    "* [Clustering](#clustering)\n",
    "* [Discussion](#discussion)\n",
    "* [Conclusion](#conclusion)\n",
    "* [References](#references)"
   ]
  },
  {
   "cell_type": "markdown",
   "metadata": {},
   "source": [
    "## Introduction <a name=\"introduction\"></a>"
   ]
  },
  {
   "cell_type": "markdown",
   "metadata": {},
   "source": [
    "The purpose of this project is to help people in exploring better facilities around their neighborhood. It will help people making smart and efficient decision on selecting great neighborhood out of numbers of other neighborhoods in Scarborough, Toranto.\n",
    "\n",
    "Scarborough is an administrative division of Toronto, Ontario, Canada. Situated atop the Scarborough Bluffs, it occupies the eastern part of the city. Scarborough is contained within the borders of Victoria Park Avenue on the west, Steeles Avenue to the north, Rouge River and the city of Pickering to the east, and Lake Ontario to the south. It borders Old Toronto, East York and North York in the west and the city of Markham in the north. Scarborough was named after the English town of Scarborough, North Yorkshire.\n",
    "\n",
    "Lots of people are migrating to various states of Canada and needed lots of research for good housing prices and reputated schools for their children. This project is for these people who are looking for better neighborhoods. For ease of access to Kaffe shops, good schools, supermarkets, medical shops, grocery shops, malls, theatre, hospitals, people with same characters, e.t.c.\n",
    "\n",
    "This project aims to create an analysis of features for a people migrating to Scarborough to search a best neighborhood as a comparative analysis between neighborhoods. The features include median housing price and better school according to ratings, crime rates of that particular area, road connectivity, weather conditions, good management for emergency, water resources both freash and waste water and excrement conveyed in sewers and recreational facilities.\n",
    "\n",
    "It will help people to get awareness of the area and neighborhood before moving to a new city, state, country or place for their work or to start a new fresh life.\n",
    "\n",
    "### Location\n",
    "\n",
    "Scarborough is a popular destination for new immigrants in Canada to reside. As a result, it is one of the most diverse and multicultural areas in the Greater Toronto Area, being home to various religious groups and places of worship. Although immigration has become a hot topic over the past few years with more governments seeking more restrictions on immigrants and refugees, the general trend of immigration into Canada has been one of on the rise.\n",
    "\n",
    "The vast majority of Scarborough's population is composed of immigrants who have arrived in the last four decades, and their descendants. In 2006, 57% of residents were foreign-born. Visible minorities make up 67.4% of the population. The population is 22.0% South Asian, 19.5% Chinese, 10.3% Black, and 6.5% Filipino. The remaining visible minority groups each represented less than 2% of the population. The immigrant population has created vibrant multicultural locales in various areas of Scarborough.\n",
    "\n",
    "\n",
    "### The Problem\n",
    "\n",
    "The major purpose of this project is to suggest a better neighborhood in a new city for an individual who would like to live there. We look onto factors  such as social presence in society in terms of like minded people, connectivity to the airport, bus stands, city centers, markets and other daily needs things nearby.\n",
    "\n",
    "* Sorted list of house in terms of housing prices in a ascending or descending order\n",
    "\n",
    "* Sorted list of schools in terms of location, fees, rating and reviews\n",
    "\n",
    "[Scarborough, Toronto Page in Wikipedia](https://en.wikipedia.org/wiki/Scarborough,_Toronto)"
   ]
  },
  {
   "cell_type": "markdown",
   "metadata": {},
   "source": [
    "## Data <a name=\"data\"></a>"
   ]
  },
  {
   "cell_type": "markdown",
   "metadata": {},
   "source": [
    "### The data\n",
    "\n",
    "In this project, we will use Scarborough dataset which we scrapped from wikipedia on Week 3. The dataset consists of latitudes and longitudes and zip codes of various neighbourhoods.\n",
    "\n",
    "Data Link: [https://en.wikipedia.org/wiki/List_of_postal_codes_of_Canada:_M](https://en.wikipedia.org/wiki/List_of_postal_codes_of_Canada:_M)\n",
    "\n",
    "This is a list of postal codes in Canada where the first letter is M. Postal codes beginning with M are located within the city of Toronto in the province of Ontario. Only the first three characters are listed, corresponding to the Forward Sortation Area.\n",
    "\n",
    "\n",
    "### Foursquare API Data\n",
    "\n",
    "We will need data about different venues in different neighborhoods for that specific borough. In order to gain that information we will use \"Foursquare\" locational information. \n",
    "\n",
    "Foursquare is a location data provider with information about all venues and events within an area of interest. Such information includes venue names, locations, menus, ratings and even photos. As such, the foursquare location platform will be used as the sole data source since all the stated required information can be obtained through the API.\n",
    "\n",
    "After finding the list of neighborhoods, we then connect to the Foursquare API to gather information about venues inside each and every neighborhood. For each neighborhood, we have chosen the radius to be 100 meter.\n",
    "\n",
    "The data retrieved from Foursquare contained information of venues within a specified distance of the longitude and latitude of the postcodes. The information obtained per venue as follows:\n",
    "\n",
    "    1. Neighborhood\n",
    "    2. Neighborhood Latitude\n",
    "    3. Neighborhood Longitude\n",
    "    4. Venue\n",
    "    5. Name of the venue e.g. the name of a store or restaurant\n",
    "    6. Venue Latitude\n",
    "    7. Venue Longitude\n",
    "    8. Venue Category"
   ]
  },
  {
   "cell_type": "markdown",
   "metadata": {},
   "source": [
    "## Analysis <a name=\"analysis\"></a>"
   ]
  },
  {
   "cell_type": "markdown",
   "metadata": {},
   "source": [
    "The initial dataframe that I acquired consisted of 103 rows and 3 variabes. These variables were **Postalcode**,**Borough** and\t**Neighborhood**. After various cleaning and adding variables, the shape of the dataframe became 103 by 5 where two columns were added, which are, **Latitude** and **Longitude**, as shown below:\n",
    "\n",
    "<img src = \"head4.png\">\n",
    "\n",
    "I utilized the Foursquare API to explore the boroughs and segment them. I designed the limit as 100 venue and the radius 500 meter for each borough from their given latitude and longitude informations as shown above."
   ]
  },
  {
   "cell_type": "markdown",
   "metadata": {},
   "source": [
    "I used python folium library to visualize geographic details of Scarborough and its boroughs and I created a map of Scarborough with boroughs superimposed on top. I used latitude and longitude values to get the visual as below:\n",
    "\n",
    "<img src=\"map_scarborough.png\">\n",
    "\n"
   ]
  },
  {
   "cell_type": "markdown",
   "metadata": {},
   "source": [
    "In summary of this graph with the unique categories were returned by Foursquare, then I created a table which shows list of top 10 venue category for each borough in below table.\n",
    "\n",
    "<img src = \"scarborough_most_common_neighborhoods.png\">"
   ]
  },
  {
   "cell_type": "markdown",
   "metadata": {},
   "source": [
    "## Clustering <a name=\"clustering\"></a>"
   ]
  },
  {
   "cell_type": "markdown",
   "metadata": {},
   "source": [
    "We have some common venue categories in boroughs. In this reason I used unsupervised learning **K-means algorithm** to cluster the boroughs. K-Means algorithm is one of the most common cluster method of unsupervised learning.\n",
    "\n",
    "Clustering is one of the most common exploratory data analysis technique used to get an intuition about the structure of the data. It can be defined as the task of identifying subgroups in the data such that data points in the same subgroup (cluster) are very similar while data points in different clusters are very different. In other words, we try to find homogeneous subgroups within the data such that data points in each cluster are as similar as possible according to a similarity measure such as euclidean-based distance or correlation-based distance.\n",
    "\n",
    "To compare the similarities of two cities, we decided to explore neighborhoods, segment them, and group them into clusters to find similar neighborhoods in a big city like Scarborough and Toronto. To be able to do that, we need to cluster data which is a form of unsupervised machine learning: k-means clustering algorithm.\n",
    "\n",
    "Kmeans algorithm is an iterative algorithm that tries to partition the dataset into $K$ pre-defined distinct non-overlapping subgroups (clusters) where each data point belongs to only one group. It tries to make the intra-cluster data points as similar as possible while also keeping the clusters as different (far) as possible. It assigns data points to a cluster such that the sum of the squared distance between the data points and the cluster’s centroid (arithmetic mean of all the data points that belong to that cluster) is at the minimum. The less variation we have within clusters, the more homogeneous (similar) the data points are within the same cluster.\n",
    "\n",
    "First, I will run K-Means to cluster the boroughs into 3 clusters because when I analyze the K-Means with elbow method it ensured me the 3 degree for optimum k of the K-Means.\n",
    "\n",
    "<img src = \"optimal_k.png\">"
   ]
  },
  {
   "cell_type": "markdown",
   "metadata": {},
   "source": [
    "The following shows part of my merged table with cluster labels for each borough:\n",
    "    \n",
    "<img src = \"scaborough_clusters_merged.png\">"
   ]
  },
  {
   "cell_type": "markdown",
   "metadata": {},
   "source": [
    "### $1^{st}$ Problem : Sorted list of house in terms of housing prices in a ascending or descending order"
   ]
  },
  {
   "cell_type": "markdown",
   "metadata": {},
   "source": [
    "We can also examine the **Average Housing Price by Clusters in Scarborough**. Thus, we can create a bar chart which may help us to find proper labels for each cluster.\n",
    "\n",
    "<img src = \"Housing_Prices_Sorted.png\">"
   ]
  },
  {
   "cell_type": "markdown",
   "metadata": {},
   "source": [
    "### $2^{nd}$ Problem: Sorted list of schools in terms of location, fees, rating and reviews\n",
    "\n",
    "Here we are going to get the barchat of **School Ratings by Clusters in Scarborough** as shown below:\n",
    "\n",
    "<img src = \"Scarborough_school_ratings.png\">"
   ]
  },
  {
   "cell_type": "markdown",
   "metadata": {},
   "source": [
    "## Discussion <a name=\"discussion\"></a>"
   ]
  },
  {
   "cell_type": "markdown",
   "metadata": {},
   "source": [
    "As indicated before, Scarborough is a very large city and attracts many tourists. In addition, Llts of people are migrating to various states of Canada and needed lots of research for good housing prices and reputated schools for their children.\n",
    "\n",
    "There is such a complexity, very different approaches can be tried in clustering and classification studies. Moreover, it is obvious that not every classification method can yield the same high quality results for this city.\n",
    "\n",
    "The major purpose of this project was to suggest a better neighborhood in a new city for the person who are shiffting there using factors such as social presence in society in terms of like minded people, connectivity to the airport, bus stands, city centers, markets and other daily needs things nearby. \n",
    "\n",
    "We used the data from Scarbolough city in Toronto and tried to solve the following two problems:\n",
    "\n",
    "    1. Sort the list of house in terms of average housing prices in a ascending or descending order, and disply this using a bar chart.\n",
    "    \n",
    "    2. Sort the list of schools of Scarborough in terms of location, fees, rating and reviews.\n",
    "    \n",
    "With this information, a person moving in to Scarborough will already know the average house prices in various neighborhoods and also the high performing schools in the different neighborhoods. This information is very critical especially for a person moving in with children who needs to go to school and also, since it is a large family, he/she will already be aware of the prices of the houses he/she is supposed to pick and plan a priori.\n",
    "\n",
    "I used the Kmeans algorithm as part of this clustering study. When I tested the Elbow method, I set the optimum k value to 3."
   ]
  },
  {
   "cell_type": "markdown",
   "metadata": {},
   "source": [
    "## Conclusion <a name=\"conclusion\"></a>"
   ]
  },
  {
   "cell_type": "markdown",
   "metadata": {},
   "source": [
    "In this project, by using the K-means cluster algorithm, I was able to separate the neighborhood into 10(Ten) different clusters and for 103 different latitudes and longitudes from dataset, which have very-similar neighborhoods around them. \n",
    "\n",
    "As shown in the charts above, neighborhoods based on average house prices and school rating have been made. This information is very important to an individual who has children and would like to migrate to Scarborugh.\n",
    "\n",
    "People are turning to big cities to start a business or work. For this reason, people can achieve better outcomes through their access to the platforms where such information is provided a priori.\n",
    "\n",
    "Not only for investors but also city managers can manage the city more regularly by using similar data analysis types or platforms.\n",
    "\n",
    "I feel rewarded with the efforts and believe this course, with all the topics covered, is well worthy of appreciation. This project has shown me a practical application to resolve a real situation that has impacting personal and financial impact using Data Science tools. \n",
    "\n",
    "The mapping with Folium is a very powerful technique to consolidate information and make the analysis and decision better with confidence.\n",
    "\n",
    "\n",
    "#### Future Work\n",
    "\n",
    "This work can be extended to finding the best hospital care, supermarkets with best rates and also stores with best rates for buying clothing. This will ensure that an individual moving to Scarborough will have the best information for the *basic needs* a human being needs to have, i.e., food, shelter, clothing and also water, in extension."
   ]
  },
  {
   "cell_type": "markdown",
   "metadata": {},
   "source": [
    "## References <a name=\"references\"></a>\n",
    "\n",
    "* [1] [Scarborough, Toronto, Wikipedia Page](https://en.wikipedia.org/wiki/Scarborough,_Toronto)\n",
    "\n",
    "* [2] [Foursquare Developers Website](https://developers.foursquare.com)\n",
    "\n",
    "* [3] [List of postal codes in Canada Data in Wikipedia](https://en.wikipedia.org/wiki/List_of_postal_codes_of_Canada:_M)\n",
    "\n",
    "* [4] [Google Website](https://www.google.com)\n",
    "\n",
    "* [5] [Great Schools Website](https://www.greatschools.org)"
   ]
  },
  {
   "cell_type": "code",
   "execution_count": null,
   "metadata": {},
   "outputs": [],
   "source": []
  }
 ],
 "metadata": {
  "kernelspec": {
   "display_name": "Python 3",
   "language": "python",
   "name": "python3"
  },
  "language_info": {
   "codemirror_mode": {
    "name": "ipython",
    "version": 3
   },
   "file_extension": ".py",
   "mimetype": "text/x-python",
   "name": "python",
   "nbconvert_exporter": "python",
   "pygments_lexer": "ipython3",
   "version": "3.8.5"
  }
 },
 "nbformat": 4,
 "nbformat_minor": 4
}
